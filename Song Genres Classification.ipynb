{
 "cells": [
  {
   "cell_type": "markdown",
   "metadata": {},
   "source": [
    "<font color='Orange'><h1>Technolab Internship Mini Project - Classfication of Song Genres</h1></font>\n",
    "<font color='Green' ><h3>By Tripura Rajavarapu </h4></font>\n",
    "\n"
   ]
  },
  {
   "cell_type": "markdown",
   "metadata": {},
   "source": [
    "### Problem Statement\n",
    "<p style=\"font-family: Arial; font-size:1.0em;\">Over the past few years, streaming services with huge catalogs have become the primary means through which most people listen to their favorite music. But at the same time, the sheer amount of music on offer can mean users might be a bit overwhelmed when trying to look for newer music that suits their tastes.\n",
    "For this reason, streaming services have looked into means of categorizing music to allow for personalized recommendations. One method involves direct analysis of the raw audio information in a given song, scoring the raw data on a variety of metrics. Today, we'll be examining data compiled by a research group known as The Echo Nest. Our goal is to look through this dataset and classify songs as being either 'Hip-Hop' or 'Rock' - all without listening to a single one ourselves. In doing so, we will learn how to clean our data, do some exploratory data visualization, and use feature reduction towards the goal of feeding our data through some simple machine learning algorithms, such as decision trees and logistic regression.\n",
    "To begin with, let's load the metadata about our tracks alongside the track metrics compiled by The Echo Nest. A song is about more than its title, artist, and number of listens. We have another dataset that has musical features of each track such as danceability and acousticness on a scale from -1 to 1. These exist in two different files, which are in different formats - CSV and JSON. While CSV is a popular file format for denoting tabular data, JSON is another common file format in which databases often return the results of a given query."
   ]
  },
  {
   "cell_type": "code",
   "execution_count": 1,
   "metadata": {},
   "outputs": [
    {
     "name": "stderr",
     "output_type": "stream",
     "text": [
      "ERROR: Could not open requirements file: [Errno 2] No such file or directory: 'requirements.txt'\n"
     ]
    }
   ],
   "source": [
    "! pip install -r requirements.txt"
   ]
  },
  {
   "cell_type": "code",
   "execution_count": 2,
   "metadata": {},
   "outputs": [],
   "source": [
    "#Importing the libraries\n",
    "\n",
    "import pandas as pd\n",
    "import numpy as np\n",
    "\n",
    "%matplotlib inline\n",
    "import matplotlib.pyplot as plt\n",
    "import seaborn as sns\n",
    "\n",
    "from sklearn.model_selection import train_test_split\n",
    "from sklearn.linear_model import LogisticRegression\n",
    "from sklearn.tree import DecisionTreeClassifier\n",
    "from sklearn.metrics import accuracy_score\n",
    "from sklearn.model_selection import GridSearchCV\n",
    "\n",
    "\n",
    "from sklearn.decomposition import PCA\n",
    "\n",
    "import warnings\n",
    "warnings.filterwarnings('ignore')"
   ]
  },
  {
   "cell_type": "code",
   "execution_count": 3,
   "metadata": {},
   "outputs": [],
   "source": [
    "#Reading the dataset\n",
    "\n",
    "tracks=pd.read_csv('fma-rock-vs-hiphop.csv')"
   ]
  },
  {
   "cell_type": "code",
   "execution_count": 4,
   "metadata": {},
   "outputs": [
    {
     "data": {
      "text/html": [
       "<div>\n",
       "<style scoped>\n",
       "    .dataframe tbody tr th:only-of-type {\n",
       "        vertical-align: middle;\n",
       "    }\n",
       "\n",
       "    .dataframe tbody tr th {\n",
       "        vertical-align: top;\n",
       "    }\n",
       "\n",
       "    .dataframe thead th {\n",
       "        text-align: right;\n",
       "    }\n",
       "</style>\n",
       "<table border=\"1\" class=\"dataframe\">\n",
       "  <thead>\n",
       "    <tr style=\"text-align: right;\">\n",
       "      <th></th>\n",
       "      <th>track_id</th>\n",
       "      <th>bit_rate</th>\n",
       "      <th>comments</th>\n",
       "      <th>composer</th>\n",
       "      <th>date_created</th>\n",
       "      <th>date_recorded</th>\n",
       "      <th>duration</th>\n",
       "      <th>favorites</th>\n",
       "      <th>genre_top</th>\n",
       "      <th>genres</th>\n",
       "      <th>...</th>\n",
       "      <th>information</th>\n",
       "      <th>interest</th>\n",
       "      <th>language_code</th>\n",
       "      <th>license</th>\n",
       "      <th>listens</th>\n",
       "      <th>lyricist</th>\n",
       "      <th>number</th>\n",
       "      <th>publisher</th>\n",
       "      <th>tags</th>\n",
       "      <th>title</th>\n",
       "    </tr>\n",
       "  </thead>\n",
       "  <tbody>\n",
       "    <tr>\n",
       "      <th>0</th>\n",
       "      <td>135</td>\n",
       "      <td>256000</td>\n",
       "      <td>1</td>\n",
       "      <td>NaN</td>\n",
       "      <td>2008-11-26 01:43:26</td>\n",
       "      <td>2008-11-26 00:00:00</td>\n",
       "      <td>837</td>\n",
       "      <td>0</td>\n",
       "      <td>Rock</td>\n",
       "      <td>[45, 58]</td>\n",
       "      <td>...</td>\n",
       "      <td>NaN</td>\n",
       "      <td>2484</td>\n",
       "      <td>en</td>\n",
       "      <td>Attribution-NonCommercial-ShareAlike 3.0 Inter...</td>\n",
       "      <td>1832</td>\n",
       "      <td>NaN</td>\n",
       "      <td>0</td>\n",
       "      <td>NaN</td>\n",
       "      <td>[]</td>\n",
       "      <td>Father's Day</td>\n",
       "    </tr>\n",
       "    <tr>\n",
       "      <th>1</th>\n",
       "      <td>136</td>\n",
       "      <td>256000</td>\n",
       "      <td>1</td>\n",
       "      <td>NaN</td>\n",
       "      <td>2008-11-26 01:43:35</td>\n",
       "      <td>2008-11-26 00:00:00</td>\n",
       "      <td>509</td>\n",
       "      <td>0</td>\n",
       "      <td>Rock</td>\n",
       "      <td>[45, 58]</td>\n",
       "      <td>...</td>\n",
       "      <td>NaN</td>\n",
       "      <td>1948</td>\n",
       "      <td>en</td>\n",
       "      <td>Attribution-NonCommercial-ShareAlike 3.0 Inter...</td>\n",
       "      <td>1498</td>\n",
       "      <td>NaN</td>\n",
       "      <td>0</td>\n",
       "      <td>NaN</td>\n",
       "      <td>[]</td>\n",
       "      <td>Peel Back The Mountain Sky</td>\n",
       "    </tr>\n",
       "    <tr>\n",
       "      <th>2</th>\n",
       "      <td>151</td>\n",
       "      <td>192000</td>\n",
       "      <td>0</td>\n",
       "      <td>NaN</td>\n",
       "      <td>2008-11-26 01:44:55</td>\n",
       "      <td>NaN</td>\n",
       "      <td>192</td>\n",
       "      <td>0</td>\n",
       "      <td>Rock</td>\n",
       "      <td>[25]</td>\n",
       "      <td>...</td>\n",
       "      <td>NaN</td>\n",
       "      <td>701</td>\n",
       "      <td>en</td>\n",
       "      <td>Attribution-NonCommercial-ShareAlike 3.0 Inter...</td>\n",
       "      <td>148</td>\n",
       "      <td>NaN</td>\n",
       "      <td>4</td>\n",
       "      <td>NaN</td>\n",
       "      <td>[]</td>\n",
       "      <td>Untitled 04</td>\n",
       "    </tr>\n",
       "    <tr>\n",
       "      <th>3</th>\n",
       "      <td>152</td>\n",
       "      <td>192000</td>\n",
       "      <td>0</td>\n",
       "      <td>NaN</td>\n",
       "      <td>2008-11-26 01:44:58</td>\n",
       "      <td>NaN</td>\n",
       "      <td>193</td>\n",
       "      <td>0</td>\n",
       "      <td>Rock</td>\n",
       "      <td>[25]</td>\n",
       "      <td>...</td>\n",
       "      <td>NaN</td>\n",
       "      <td>637</td>\n",
       "      <td>en</td>\n",
       "      <td>Attribution-NonCommercial-ShareAlike 3.0 Inter...</td>\n",
       "      <td>98</td>\n",
       "      <td>NaN</td>\n",
       "      <td>11</td>\n",
       "      <td>NaN</td>\n",
       "      <td>[]</td>\n",
       "      <td>Untitled 11</td>\n",
       "    </tr>\n",
       "    <tr>\n",
       "      <th>4</th>\n",
       "      <td>153</td>\n",
       "      <td>256000</td>\n",
       "      <td>0</td>\n",
       "      <td>Arc and Sender</td>\n",
       "      <td>2008-11-26 01:45:00</td>\n",
       "      <td>2008-11-26 00:00:00</td>\n",
       "      <td>405</td>\n",
       "      <td>5</td>\n",
       "      <td>Rock</td>\n",
       "      <td>[26]</td>\n",
       "      <td>...</td>\n",
       "      <td>NaN</td>\n",
       "      <td>354</td>\n",
       "      <td>en</td>\n",
       "      <td>Attribution-NonCommercial-NoDerivatives (aka M...</td>\n",
       "      <td>424</td>\n",
       "      <td>NaN</td>\n",
       "      <td>2</td>\n",
       "      <td>NaN</td>\n",
       "      <td>[]</td>\n",
       "      <td>Hundred-Year Flood</td>\n",
       "    </tr>\n",
       "  </tbody>\n",
       "</table>\n",
       "<p>5 rows × 21 columns</p>\n",
       "</div>"
      ],
      "text/plain": [
       "   track_id  bit_rate  comments        composer         date_created  \\\n",
       "0       135    256000         1             NaN  2008-11-26 01:43:26   \n",
       "1       136    256000         1             NaN  2008-11-26 01:43:35   \n",
       "2       151    192000         0             NaN  2008-11-26 01:44:55   \n",
       "3       152    192000         0             NaN  2008-11-26 01:44:58   \n",
       "4       153    256000         0  Arc and Sender  2008-11-26 01:45:00   \n",
       "\n",
       "         date_recorded  duration  favorites genre_top    genres  ...  \\\n",
       "0  2008-11-26 00:00:00       837          0      Rock  [45, 58]  ...   \n",
       "1  2008-11-26 00:00:00       509          0      Rock  [45, 58]  ...   \n",
       "2                  NaN       192          0      Rock      [25]  ...   \n",
       "3                  NaN       193          0      Rock      [25]  ...   \n",
       "4  2008-11-26 00:00:00       405          5      Rock      [26]  ...   \n",
       "\n",
       "  information interest  language_code  \\\n",
       "0         NaN     2484             en   \n",
       "1         NaN     1948             en   \n",
       "2         NaN      701             en   \n",
       "3         NaN      637             en   \n",
       "4         NaN      354             en   \n",
       "\n",
       "                                             license listens  lyricist number  \\\n",
       "0  Attribution-NonCommercial-ShareAlike 3.0 Inter...    1832       NaN      0   \n",
       "1  Attribution-NonCommercial-ShareAlike 3.0 Inter...    1498       NaN      0   \n",
       "2  Attribution-NonCommercial-ShareAlike 3.0 Inter...     148       NaN      4   \n",
       "3  Attribution-NonCommercial-ShareAlike 3.0 Inter...      98       NaN     11   \n",
       "4  Attribution-NonCommercial-NoDerivatives (aka M...     424       NaN      2   \n",
       "\n",
       "   publisher tags                       title  \n",
       "0        NaN   []                Father's Day  \n",
       "1        NaN   []  Peel Back The Mountain Sky  \n",
       "2        NaN   []                 Untitled 04  \n",
       "3        NaN   []                 Untitled 11  \n",
       "4        NaN   []          Hundred-Year Flood  \n",
       "\n",
       "[5 rows x 21 columns]"
      ]
     },
     "execution_count": 4,
     "metadata": {},
     "output_type": "execute_result"
    }
   ],
   "source": [
    "#Lets check the head of the dataset\n",
    "tracks.head()"
   ]
  },
  {
   "cell_type": "code",
   "execution_count": 5,
   "metadata": {},
   "outputs": [
    {
     "name": "stdout",
     "output_type": "stream",
     "text": [
      "<class 'pandas.core.frame.DataFrame'>\n",
      "RangeIndex: 17734 entries, 0 to 17733\n",
      "Data columns (total 21 columns):\n",
      " #   Column         Non-Null Count  Dtype \n",
      "---  ------         --------------  ----- \n",
      " 0   track_id       17734 non-null  int64 \n",
      " 1   bit_rate       17734 non-null  int64 \n",
      " 2   comments       17734 non-null  int64 \n",
      " 3   composer       166 non-null    object\n",
      " 4   date_created   17734 non-null  object\n",
      " 5   date_recorded  1898 non-null   object\n",
      " 6   duration       17734 non-null  int64 \n",
      " 7   favorites      17734 non-null  int64 \n",
      " 8   genre_top      17734 non-null  object\n",
      " 9   genres         17734 non-null  object\n",
      " 10  genres_all     17734 non-null  object\n",
      " 11  information    482 non-null    object\n",
      " 12  interest       17734 non-null  int64 \n",
      " 13  language_code  4089 non-null   object\n",
      " 14  license        17714 non-null  object\n",
      " 15  listens        17734 non-null  int64 \n",
      " 16  lyricist       53 non-null     object\n",
      " 17  number         17734 non-null  int64 \n",
      " 18  publisher      52 non-null     object\n",
      " 19  tags           17734 non-null  object\n",
      " 20  title          17734 non-null  object\n",
      "dtypes: int64(8), object(13)\n",
      "memory usage: 2.8+ MB\n"
     ]
    }
   ],
   "source": [
    "#Info of the dataset\n",
    "tracks.info()"
   ]
  },
  {
   "cell_type": "code",
   "execution_count": 6,
   "metadata": {},
   "outputs": [],
   "source": [
    "echonest_metrics = pd.read_json('echonest-metrics.json',\n",
    "                               precise_float = True)"
   ]
  },
  {
   "cell_type": "code",
   "execution_count": 7,
   "metadata": {},
   "outputs": [
    {
     "data": {
      "text/html": [
       "<div>\n",
       "<style scoped>\n",
       "    .dataframe tbody tr th:only-of-type {\n",
       "        vertical-align: middle;\n",
       "    }\n",
       "\n",
       "    .dataframe tbody tr th {\n",
       "        vertical-align: top;\n",
       "    }\n",
       "\n",
       "    .dataframe thead th {\n",
       "        text-align: right;\n",
       "    }\n",
       "</style>\n",
       "<table border=\"1\" class=\"dataframe\">\n",
       "  <thead>\n",
       "    <tr style=\"text-align: right;\">\n",
       "      <th></th>\n",
       "      <th>track_id</th>\n",
       "      <th>acousticness</th>\n",
       "      <th>danceability</th>\n",
       "      <th>energy</th>\n",
       "      <th>instrumentalness</th>\n",
       "      <th>liveness</th>\n",
       "      <th>speechiness</th>\n",
       "      <th>tempo</th>\n",
       "      <th>valence</th>\n",
       "    </tr>\n",
       "  </thead>\n",
       "  <tbody>\n",
       "    <tr>\n",
       "      <th>0</th>\n",
       "      <td>2</td>\n",
       "      <td>0.416675</td>\n",
       "      <td>0.675894</td>\n",
       "      <td>0.634476</td>\n",
       "      <td>0.010628</td>\n",
       "      <td>0.177647</td>\n",
       "      <td>0.159310</td>\n",
       "      <td>165.922</td>\n",
       "      <td>0.576661</td>\n",
       "    </tr>\n",
       "    <tr>\n",
       "      <th>1</th>\n",
       "      <td>3</td>\n",
       "      <td>0.374408</td>\n",
       "      <td>0.528643</td>\n",
       "      <td>0.817461</td>\n",
       "      <td>0.001851</td>\n",
       "      <td>0.105880</td>\n",
       "      <td>0.461818</td>\n",
       "      <td>126.957</td>\n",
       "      <td>0.269240</td>\n",
       "    </tr>\n",
       "    <tr>\n",
       "      <th>2</th>\n",
       "      <td>5</td>\n",
       "      <td>0.043567</td>\n",
       "      <td>0.745566</td>\n",
       "      <td>0.701470</td>\n",
       "      <td>0.000697</td>\n",
       "      <td>0.373143</td>\n",
       "      <td>0.124595</td>\n",
       "      <td>100.260</td>\n",
       "      <td>0.621661</td>\n",
       "    </tr>\n",
       "    <tr>\n",
       "      <th>3</th>\n",
       "      <td>10</td>\n",
       "      <td>0.951670</td>\n",
       "      <td>0.658179</td>\n",
       "      <td>0.924525</td>\n",
       "      <td>0.965427</td>\n",
       "      <td>0.115474</td>\n",
       "      <td>0.032985</td>\n",
       "      <td>111.562</td>\n",
       "      <td>0.963590</td>\n",
       "    </tr>\n",
       "    <tr>\n",
       "      <th>4</th>\n",
       "      <td>134</td>\n",
       "      <td>0.452217</td>\n",
       "      <td>0.513238</td>\n",
       "      <td>0.560410</td>\n",
       "      <td>0.019443</td>\n",
       "      <td>0.096567</td>\n",
       "      <td>0.525519</td>\n",
       "      <td>114.290</td>\n",
       "      <td>0.894072</td>\n",
       "    </tr>\n",
       "  </tbody>\n",
       "</table>\n",
       "</div>"
      ],
      "text/plain": [
       "   track_id  acousticness  danceability    energy  instrumentalness  liveness  \\\n",
       "0         2      0.416675      0.675894  0.634476          0.010628  0.177647   \n",
       "1         3      0.374408      0.528643  0.817461          0.001851  0.105880   \n",
       "2         5      0.043567      0.745566  0.701470          0.000697  0.373143   \n",
       "3        10      0.951670      0.658179  0.924525          0.965427  0.115474   \n",
       "4       134      0.452217      0.513238  0.560410          0.019443  0.096567   \n",
       "\n",
       "   speechiness    tempo   valence  \n",
       "0     0.159310  165.922  0.576661  \n",
       "1     0.461818  126.957  0.269240  \n",
       "2     0.124595  100.260  0.621661  \n",
       "3     0.032985  111.562  0.963590  \n",
       "4     0.525519  114.290  0.894072  "
      ]
     },
     "execution_count": 7,
     "metadata": {},
     "output_type": "execute_result"
    }
   ],
   "source": [
    "#look at the head of echonest_metrics\n",
    "echonest_metrics.head()"
   ]
  },
  {
   "cell_type": "code",
   "execution_count": 8,
   "metadata": {},
   "outputs": [
    {
     "name": "stdout",
     "output_type": "stream",
     "text": [
      "<class 'pandas.core.frame.DataFrame'>\n",
      "Int64Index: 13129 entries, 0 to 13128\n",
      "Data columns (total 9 columns):\n",
      " #   Column            Non-Null Count  Dtype  \n",
      "---  ------            --------------  -----  \n",
      " 0   track_id          13129 non-null  int64  \n",
      " 1   acousticness      13129 non-null  float64\n",
      " 2   danceability      13129 non-null  float64\n",
      " 3   energy            13129 non-null  float64\n",
      " 4   instrumentalness  13129 non-null  float64\n",
      " 5   liveness          13129 non-null  float64\n",
      " 6   speechiness       13129 non-null  float64\n",
      " 7   tempo             13129 non-null  float64\n",
      " 8   valence           13129 non-null  float64\n",
      "dtypes: float64(8), int64(1)\n",
      "memory usage: 1.0 MB\n"
     ]
    }
   ],
   "source": [
    "#info of the dataset\n",
    "echonest_metrics.info()"
   ]
  },
  {
   "cell_type": "code",
   "execution_count": 9,
   "metadata": {},
   "outputs": [
    {
     "data": {
      "text/html": [
       "<div>\n",
       "<style scoped>\n",
       "    .dataframe tbody tr th:only-of-type {\n",
       "        vertical-align: middle;\n",
       "    }\n",
       "\n",
       "    .dataframe tbody tr th {\n",
       "        vertical-align: top;\n",
       "    }\n",
       "\n",
       "    .dataframe thead th {\n",
       "        text-align: right;\n",
       "    }\n",
       "</style>\n",
       "<table border=\"1\" class=\"dataframe\">\n",
       "  <thead>\n",
       "    <tr style=\"text-align: right;\">\n",
       "      <th></th>\n",
       "      <th>track_id</th>\n",
       "      <th>genre_top</th>\n",
       "      <th>acousticness</th>\n",
       "      <th>danceability</th>\n",
       "      <th>energy</th>\n",
       "      <th>instrumentalness</th>\n",
       "      <th>liveness</th>\n",
       "      <th>speechiness</th>\n",
       "      <th>tempo</th>\n",
       "      <th>valence</th>\n",
       "    </tr>\n",
       "  </thead>\n",
       "  <tbody>\n",
       "    <tr>\n",
       "      <th>0</th>\n",
       "      <td>153</td>\n",
       "      <td>Rock</td>\n",
       "      <td>0.988306</td>\n",
       "      <td>0.255661</td>\n",
       "      <td>0.979774</td>\n",
       "      <td>0.973006</td>\n",
       "      <td>0.121342</td>\n",
       "      <td>0.051740</td>\n",
       "      <td>90.241</td>\n",
       "      <td>0.034018</td>\n",
       "    </tr>\n",
       "    <tr>\n",
       "      <th>1</th>\n",
       "      <td>154</td>\n",
       "      <td>Rock</td>\n",
       "      <td>0.970135</td>\n",
       "      <td>0.352946</td>\n",
       "      <td>0.023852</td>\n",
       "      <td>0.957113</td>\n",
       "      <td>0.113261</td>\n",
       "      <td>0.032177</td>\n",
       "      <td>53.758</td>\n",
       "      <td>0.035632</td>\n",
       "    </tr>\n",
       "    <tr>\n",
       "      <th>2</th>\n",
       "      <td>155</td>\n",
       "      <td>Rock</td>\n",
       "      <td>0.981657</td>\n",
       "      <td>0.142249</td>\n",
       "      <td>0.912122</td>\n",
       "      <td>0.967294</td>\n",
       "      <td>0.363510</td>\n",
       "      <td>0.087527</td>\n",
       "      <td>91.912</td>\n",
       "      <td>0.034325</td>\n",
       "    </tr>\n",
       "    <tr>\n",
       "      <th>3</th>\n",
       "      <td>169</td>\n",
       "      <td>Rock</td>\n",
       "      <td>0.989141</td>\n",
       "      <td>0.225978</td>\n",
       "      <td>0.722835</td>\n",
       "      <td>0.263076</td>\n",
       "      <td>0.092371</td>\n",
       "      <td>0.053406</td>\n",
       "      <td>94.322</td>\n",
       "      <td>0.028347</td>\n",
       "    </tr>\n",
       "    <tr>\n",
       "      <th>4</th>\n",
       "      <td>170</td>\n",
       "      <td>Rock</td>\n",
       "      <td>0.886660</td>\n",
       "      <td>0.298518</td>\n",
       "      <td>0.744333</td>\n",
       "      <td>0.920950</td>\n",
       "      <td>0.139587</td>\n",
       "      <td>0.088781</td>\n",
       "      <td>97.880</td>\n",
       "      <td>0.073548</td>\n",
       "    </tr>\n",
       "  </tbody>\n",
       "</table>\n",
       "</div>"
      ],
      "text/plain": [
       "   track_id genre_top  acousticness  danceability    energy  instrumentalness  \\\n",
       "0       153      Rock      0.988306      0.255661  0.979774          0.973006   \n",
       "1       154      Rock      0.970135      0.352946  0.023852          0.957113   \n",
       "2       155      Rock      0.981657      0.142249  0.912122          0.967294   \n",
       "3       169      Rock      0.989141      0.225978  0.722835          0.263076   \n",
       "4       170      Rock      0.886660      0.298518  0.744333          0.920950   \n",
       "\n",
       "   liveness  speechiness   tempo   valence  \n",
       "0  0.121342     0.051740  90.241  0.034018  \n",
       "1  0.113261     0.032177  53.758  0.035632  \n",
       "2  0.363510     0.087527  91.912  0.034325  \n",
       "3  0.092371     0.053406  94.322  0.028347  \n",
       "4  0.139587     0.088781  97.880  0.073548  "
      ]
     },
     "execution_count": 9,
     "metadata": {},
     "output_type": "execute_result"
    }
   ],
   "source": [
    "# Merge the track_id and genre_top columns of tracks and echonest_metrics on track_id values\n",
    "echo_tracks = pd.merge(left = tracks[['track_id', 'genre_top']], right=echonest_metrics, on='track_id')\n",
    "\n",
    "echo_tracks.head()"
   ]
  },
  {
   "cell_type": "code",
   "execution_count": 10,
   "metadata": {},
   "outputs": [
    {
     "name": "stdout",
     "output_type": "stream",
     "text": [
      "<class 'pandas.core.frame.DataFrame'>\n",
      "Int64Index: 4802 entries, 0 to 4801\n",
      "Data columns (total 10 columns):\n",
      " #   Column            Non-Null Count  Dtype  \n",
      "---  ------            --------------  -----  \n",
      " 0   track_id          4802 non-null   int64  \n",
      " 1   genre_top         4802 non-null   object \n",
      " 2   acousticness      4802 non-null   float64\n",
      " 3   danceability      4802 non-null   float64\n",
      " 4   energy            4802 non-null   float64\n",
      " 5   instrumentalness  4802 non-null   float64\n",
      " 6   liveness          4802 non-null   float64\n",
      " 7   speechiness       4802 non-null   float64\n",
      " 8   tempo             4802 non-null   float64\n",
      " 9   valence           4802 non-null   float64\n",
      "dtypes: float64(8), int64(1), object(1)\n",
      "memory usage: 412.7+ KB\n"
     ]
    }
   ],
   "source": [
    "#Info of the merged dataset\n",
    "echo_tracks.info()"
   ]
  },
  {
   "cell_type": "code",
   "execution_count": 11,
   "metadata": {},
   "outputs": [
    {
     "data": {
      "image/png": "[encoded data removed]",
      "text/plain": [
       "<Figure size 720x576 with 2 Axes>"
      ]
     },
     "metadata": {
      "needs_background": "light"
     },
     "output_type": "display_data"
    }
   ],
   "source": [
    "#Lets check the correaltion between the features\n",
    "plt.figure(figsize=[10,8])\n",
    "sns.heatmap(echo_tracks.corr(),annot=True)\n",
    "plt.show()"
   ]
  },
  {
   "cell_type": "markdown",
   "metadata": {},
   "source": [
    "`We could see some correlation between danceability and valence but it is not strong enough`"
   ]
  },
  {
   "cell_type": "code",
   "execution_count": 12,
   "metadata": {},
   "outputs": [],
   "source": [
    "#Let us now normalize the data features \n",
    "X = echo_tracks.drop(['genre_top', 'track_id'], axis = 1)\n",
    "\n",
    "# Define our labels\n",
    "y = echo_tracks['genre_top']\n",
    "\n",
    "# Import the StandardScaler\n",
    "from sklearn.preprocessing import StandardScaler\n",
    "\n",
    "# Scale the features and set the values to a new variable\n",
    "scaler = StandardScaler()\n",
    "scaled_features = scaler.fit_transform(X)"
   ]
  },
  {
   "cell_type": "code",
   "execution_count": 13,
   "metadata": {},
   "outputs": [
    {
     "data": {
      "text/plain": [
       "array([0.24297674, 0.18044316, 0.13650309, 0.12994089, 0.11056248,\n",
       "       0.08302245, 0.06923783, 0.04731336])"
      ]
     },
     "execution_count": 13,
     "metadata": {},
     "output_type": "execute_result"
    }
   ],
   "source": [
    "# Get our explained variance ratios from PCA using all features\n",
    "pca = PCA()\n",
    "pca.fit(scaled_features)\n",
    "exp_variance = pca.explained_variance_ratio_\n",
    "exp_variance"
   ]
  },
  {
   "cell_type": "code",
   "execution_count": 14,
   "metadata": {},
   "outputs": [
    {
     "data": {
      "image/png": "[encoded data removed]",
      "text/plain": [
       "<Figure size 432x288 with 1 Axes>"
      ]
     },
     "metadata": {
      "needs_background": "light"
     },
     "output_type": "display_data"
    }
   ],
   "source": [
    "# plot the explained variance using a barplot\n",
    "fig, ax = plt.subplots()\n",
    "ax.bar(range(pca.n_components_),exp_variance)\n",
    "ax.set_xlabel('Principal Component #')\n",
    "plt.show()"
   ]
  },
  {
   "cell_type": "code",
   "execution_count": 15,
   "metadata": {},
   "outputs": [
    {
     "data": {
      "text/plain": [
       "array([0.24297674, 0.4234199 , 0.55992299, 0.68986388, 0.80042636,\n",
       "       0.88344881, 0.95268664, 1.        ])"
      ]
     },
     "execution_count": 15,
     "metadata": {},
     "output_type": "execute_result"
    }
   ],
   "source": [
    "# Calculate the cumulative explained variance\n",
    "cum_exp_variance = np.cumsum(exp_variance)\n",
    "cum_exp_variance"
   ]
  },
  {
   "cell_type": "code",
   "execution_count": 16,
   "metadata": {},
   "outputs": [
    {
     "data": {
      "image/png": "[encoded data removed]",
      "text/plain": [
       "<Figure size 864x576 with 1 Axes>"
      ]
     },
     "metadata": {
      "needs_background": "light"
     },
     "output_type": "display_data"
    }
   ],
   "source": [
    "# Plot the cumulative explained variance and draw a dashed line at 0.90.\n",
    "# fig, ax = plt.subplots()\n",
    "# ax.plot(range(8),cum_exp_variance)\n",
    "# ax.axhline(y=0.9, linestyle='--')\n",
    "# plt.show()\n",
    "\n",
    "\n",
    "fig = plt.figure(figsize=[12,8])\n",
    "plt.vlines(x=5.2, ymax=1, ymin=0, colors=\"r\", linestyles=\"--\")\n",
    "plt.hlines(y=0.9, xmax=8, xmin=0, colors=\"g\", linestyles=\"--\")\n",
    "plt.plot(cum_exp_variance)\n",
    "plt.ylabel(\"Cumulative variance explained\")\n",
    "plt.show()"
   ]
  },
  {
   "cell_type": "code",
   "execution_count": 17,
   "metadata": {},
   "outputs": [],
   "source": [
    "n_components = 8\n",
    "\n",
    "# Perform PCA with the chosen number of components and project data onto components\n",
    "pca = PCA(n_components, random_state=10)\n",
    "pca.fit(scaled_features)\n",
    "pca_projection = pca.transform(scaled_features)"
   ]
  },
  {
   "cell_type": "code",
   "execution_count": 18,
   "metadata": {},
   "outputs": [
    {
     "data": {
      "text/plain": [
       "(4802, 8)"
      ]
     },
     "execution_count": 18,
     "metadata": {},
     "output_type": "execute_result"
    }
   ],
   "source": [
    "pca_projection.shape"
   ]
  },
  {
   "cell_type": "markdown",
   "metadata": {},
   "source": [
    "## Train-test Split"
   ]
  },
  {
   "cell_type": "code",
   "execution_count": 19,
   "metadata": {},
   "outputs": [],
   "source": [
    "# Split our data\n",
    "X_train, X_test, y_train, y_test = train_test_split(pca_projection, y, stratify = y)\n",
    "\n",
    "# Train our decision tree\n",
    "dt = DecisionTreeClassifier(random_state = 10)\n",
    "dt.fit(X_train, y_train)\n",
    "\n",
    "# Predict the labels for the test data\n",
    "pred_labels_tree = dt.predict(X_test)"
   ]
  },
  {
   "cell_type": "code",
   "execution_count": 20,
   "metadata": {},
   "outputs": [
    {
     "data": {
      "text/plain": [
       "0.8609492089925063"
      ]
     },
     "execution_count": 20,
     "metadata": {},
     "output_type": "execute_result"
    }
   ],
   "source": [
    "accuracy_score(y_test, pred_labels_tree)"
   ]
  },
  {
   "cell_type": "code",
   "execution_count": 21,
   "metadata": {},
   "outputs": [
    {
     "data": {
      "text/plain": [
       "Rock       3892\n",
       "Hip-Hop     910\n",
       "Name: genre_top, dtype: int64"
      ]
     },
     "execution_count": 21,
     "metadata": {},
     "output_type": "execute_result"
    }
   ],
   "source": [
    "y.value_counts()"
   ]
  },
  {
   "cell_type": "markdown",
   "metadata": {},
   "source": [
    "#### Our data is imbalanced so, accuracy score is not a good metric. Lets calculate using confusion matrix"
   ]
  },
  {
   "cell_type": "code",
   "execution_count": 22,
   "metadata": {},
   "outputs": [
    {
     "data": {
      "text/plain": [
       "array([[139,  89],\n",
       "       [ 78, 895]], dtype=int64)"
      ]
     },
     "execution_count": 22,
     "metadata": {},
     "output_type": "execute_result"
    }
   ],
   "source": [
    "from sklearn.metrics import confusion_matrix\n",
    "confusion_matrix(y_test, pred_labels_tree)"
   ]
  },
  {
   "cell_type": "code",
   "execution_count": 23,
   "metadata": {},
   "outputs": [
    {
     "name": "stdout",
     "output_type": "stream",
     "text": [
      "Decision Tree: \n",
      "               precision    recall  f1-score   support\n",
      "\n",
      "     Hip-Hop       0.64      0.61      0.62       228\n",
      "        Rock       0.91      0.92      0.91       973\n",
      "\n",
      "    accuracy                           0.86      1201\n",
      "   macro avg       0.78      0.76      0.77      1201\n",
      "weighted avg       0.86      0.86      0.86      1201\n",
      "\n",
      "Logistic Regression: \n",
      "               precision    recall  f1-score   support\n",
      "\n",
      "     Hip-Hop       0.81      0.59      0.68       228\n",
      "        Rock       0.91      0.97      0.94       973\n",
      "\n",
      "    accuracy                           0.90      1201\n",
      "   macro avg       0.86      0.78      0.81      1201\n",
      "weighted avg       0.89      0.90      0.89      1201\n",
      "\n"
     ]
    }
   ],
   "source": [
    "# Train our logistic regression and predict labels for the test set\n",
    "logreg = LogisticRegression(random_state = 10)\n",
    "logreg.fit(X_train, y_train)\n",
    "pred_labels_logit = logreg.predict(X_test)\n",
    "\n",
    "# Create the classification report for both models\n",
    "from sklearn.metrics import classification_report\n",
    "class_rep_tree = classification_report(y_test, pred_labels_tree)\n",
    "class_rep_log = classification_report(y_test, pred_labels_logit)\n",
    "\n",
    "print(\"Decision Tree: \\n\", class_rep_tree)\n",
    "print(\"Logistic Regression: \\n\", class_rep_log)"
   ]
  },
  {
   "cell_type": "markdown",
   "metadata": {},
   "source": [
    "### lets balance the target column"
   ]
  },
  {
   "cell_type": "code",
   "execution_count": 24,
   "metadata": {},
   "outputs": [
    {
     "data": {
      "text/html": [
       "<div>\n",
       "<style scoped>\n",
       "    .dataframe tbody tr th:only-of-type {\n",
       "        vertical-align: middle;\n",
       "    }\n",
       "\n",
       "    .dataframe tbody tr th {\n",
       "        vertical-align: top;\n",
       "    }\n",
       "\n",
       "    .dataframe thead th {\n",
       "        text-align: right;\n",
       "    }\n",
       "</style>\n",
       "<table border=\"1\" class=\"dataframe\">\n",
       "  <thead>\n",
       "    <tr style=\"text-align: right;\">\n",
       "      <th></th>\n",
       "      <th>track_id</th>\n",
       "      <th>genre_top</th>\n",
       "      <th>acousticness</th>\n",
       "      <th>danceability</th>\n",
       "      <th>energy</th>\n",
       "      <th>instrumentalness</th>\n",
       "      <th>liveness</th>\n",
       "      <th>speechiness</th>\n",
       "      <th>tempo</th>\n",
       "      <th>valence</th>\n",
       "    </tr>\n",
       "  </thead>\n",
       "  <tbody>\n",
       "    <tr>\n",
       "      <th>0</th>\n",
       "      <td>153</td>\n",
       "      <td>Rock</td>\n",
       "      <td>0.988306</td>\n",
       "      <td>0.255661</td>\n",
       "      <td>0.979774</td>\n",
       "      <td>0.973006</td>\n",
       "      <td>0.121342</td>\n",
       "      <td>0.051740</td>\n",
       "      <td>90.241</td>\n",
       "      <td>0.034018</td>\n",
       "    </tr>\n",
       "    <tr>\n",
       "      <th>1</th>\n",
       "      <td>154</td>\n",
       "      <td>Rock</td>\n",
       "      <td>0.970135</td>\n",
       "      <td>0.352946</td>\n",
       "      <td>0.023852</td>\n",
       "      <td>0.957113</td>\n",
       "      <td>0.113261</td>\n",
       "      <td>0.032177</td>\n",
       "      <td>53.758</td>\n",
       "      <td>0.035632</td>\n",
       "    </tr>\n",
       "    <tr>\n",
       "      <th>2</th>\n",
       "      <td>155</td>\n",
       "      <td>Rock</td>\n",
       "      <td>0.981657</td>\n",
       "      <td>0.142249</td>\n",
       "      <td>0.912122</td>\n",
       "      <td>0.967294</td>\n",
       "      <td>0.363510</td>\n",
       "      <td>0.087527</td>\n",
       "      <td>91.912</td>\n",
       "      <td>0.034325</td>\n",
       "    </tr>\n",
       "    <tr>\n",
       "      <th>3</th>\n",
       "      <td>169</td>\n",
       "      <td>Rock</td>\n",
       "      <td>0.989141</td>\n",
       "      <td>0.225978</td>\n",
       "      <td>0.722835</td>\n",
       "      <td>0.263076</td>\n",
       "      <td>0.092371</td>\n",
       "      <td>0.053406</td>\n",
       "      <td>94.322</td>\n",
       "      <td>0.028347</td>\n",
       "    </tr>\n",
       "    <tr>\n",
       "      <th>4</th>\n",
       "      <td>170</td>\n",
       "      <td>Rock</td>\n",
       "      <td>0.886660</td>\n",
       "      <td>0.298518</td>\n",
       "      <td>0.744333</td>\n",
       "      <td>0.920950</td>\n",
       "      <td>0.139587</td>\n",
       "      <td>0.088781</td>\n",
       "      <td>97.880</td>\n",
       "      <td>0.073548</td>\n",
       "    </tr>\n",
       "  </tbody>\n",
       "</table>\n",
       "</div>"
      ],
      "text/plain": [
       "   track_id genre_top  acousticness  danceability    energy  instrumentalness  \\\n",
       "0       153      Rock      0.988306      0.255661  0.979774          0.973006   \n",
       "1       154      Rock      0.970135      0.352946  0.023852          0.957113   \n",
       "2       155      Rock      0.981657      0.142249  0.912122          0.967294   \n",
       "3       169      Rock      0.989141      0.225978  0.722835          0.263076   \n",
       "4       170      Rock      0.886660      0.298518  0.744333          0.920950   \n",
       "\n",
       "   liveness  speechiness   tempo   valence  \n",
       "0  0.121342     0.051740  90.241  0.034018  \n",
       "1  0.113261     0.032177  53.758  0.035632  \n",
       "2  0.363510     0.087527  91.912  0.034325  \n",
       "3  0.092371     0.053406  94.322  0.028347  \n",
       "4  0.139587     0.088781  97.880  0.073548  "
      ]
     },
     "execution_count": 24,
     "metadata": {},
     "output_type": "execute_result"
    }
   ],
   "source": [
    "# Subset only the hip-hop tracks, and then only the rock tracks\n",
    "hop_only = echo_tracks.loc[echo_tracks['genre_top'] == 'Hip-Hop']\n",
    "rock_only = echo_tracks.loc[echo_tracks['genre_top'] == 'Rock']\n",
    "rock_only.head()"
   ]
  },
  {
   "cell_type": "code",
   "execution_count": 25,
   "metadata": {},
   "outputs": [
    {
     "data": {
      "text/plain": [
       "((3892, 10), (910, 10))"
      ]
     },
     "execution_count": 25,
     "metadata": {},
     "output_type": "execute_result"
    }
   ],
   "source": [
    "rock_only.shape, hop_only.shape"
   ]
  },
  {
   "cell_type": "markdown",
   "metadata": {},
   "source": [
    "### SMOTE method to balance the data"
   ]
  },
  {
   "cell_type": "code",
   "execution_count": 26,
   "metadata": {},
   "outputs": [],
   "source": [
    "## SMOTE to balance the dataset\n",
    "from imblearn.over_sampling import SMOTE \n",
    "from sklearn.metrics import confusion_matrix, classification_report \n",
    "sm = SMOTE(random_state = 2) \n",
    "X_train_res, y_train_res = sm.fit_resample(X_train, y_train.ravel()) "
   ]
  },
  {
   "cell_type": "code",
   "execution_count": 27,
   "metadata": {},
   "outputs": [
    {
     "name": "stdout",
     "output_type": "stream",
     "text": [
      "Train Accuracy:\n",
      "              precision    recall  f1-score   support\n",
      "\n",
      "     Hip-Hop       0.60      0.83      0.70       682\n",
      "        Rock       0.96      0.87      0.91      2919\n",
      "\n",
      "    accuracy                           0.86      3601\n",
      "   macro avg       0.78      0.85      0.80      3601\n",
      "weighted avg       0.89      0.86      0.87      3601\n",
      "\n",
      "Test Accuracy:\n",
      "              precision    recall  f1-score   support\n",
      "\n",
      "     Hip-Hop       0.61      0.83      0.71       228\n",
      "        Rock       0.96      0.88      0.92       973\n",
      "\n",
      "    accuracy                           0.87      1201\n",
      "   macro avg       0.79      0.86      0.81      1201\n",
      "weighted avg       0.89      0.87      0.88      1201\n",
      "\n"
     ]
    }
   ],
   "source": [
    "#performing Logistic regression on balanced data\n",
    "lr1 = LogisticRegression() \n",
    "lr1.fit(X_train_res, y_train_res.ravel()) \n",
    "predictions = lr1.predict(X_test) \n",
    "  \n",
    "# print classification report \n",
    "print(\"Train Accuracy:\")\n",
    "print(classification_report(y_train, lr1.predict(X_train))) \n",
    "print(\"Test Accuracy:\")\n",
    "print(classification_report(y_test, predictions)) "
   ]
  },
  {
   "cell_type": "markdown",
   "metadata": {},
   "source": [
    "### Generate Pickle File"
   ]
  },
  {
   "cell_type": "code",
   "execution_count": 28,
   "metadata": {},
   "outputs": [
    {
     "data": {
      "text/plain": [
       "LogisticRegression()"
      ]
     },
     "execution_count": 28,
     "metadata": {},
     "output_type": "execute_result"
    }
   ],
   "source": [
    "import pickle\n",
    "# Saving model to disk\n",
    "pickle.dump(lr1, open('Classifier.pkl','wb'))\n",
    "\n",
    "# Loading model to compare the results\n",
    "pickle.load(open('Classifier.pkl','rb'))"
   ]
  }
 ],
 "metadata": {
  "kernelspec": {
   "display_name": "Python 3",
   "language": "python",
   "name": "python3"
  },
  "language_info": {
   "codemirror_mode": {
    "name": "ipython",
    "version": 3
   },
   "file_extension": ".py",
   "mimetype": "text/x-python",
   "name": "python",
   "nbconvert_exporter": "python",
   "pygments_lexer": "ipython3",
   "version": "3.7.6"
  }
 },
 "nbformat": 4,
 "nbformat_minor": 4
}
